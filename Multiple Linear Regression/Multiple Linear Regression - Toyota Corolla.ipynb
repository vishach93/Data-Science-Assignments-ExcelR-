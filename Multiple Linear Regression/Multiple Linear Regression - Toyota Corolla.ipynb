{
 "cells": [
  {
   "cell_type": "code",
   "execution_count": 48,
   "metadata": {},
   "outputs": [],
   "source": [
    "import pandas as pd\n",
    "import numpy as np\n",
    "import seaborn as sns\n",
    "import matplotlib.pyplot as plt\n",
    "%matplotlib inline"
   ]
  },
  {
   "cell_type": "markdown",
   "metadata": {},
   "source": [
    "# Loading the dataset"
   ]
  },
  {
   "cell_type": "code",
   "execution_count": 49,
   "metadata": {
    "scrolled": true
   },
   "outputs": [
    {
     "data": {
      "text/html": [
       "<div>\n",
       "<style scoped>\n",
       "    .dataframe tbody tr th:only-of-type {\n",
       "        vertical-align: middle;\n",
       "    }\n",
       "\n",
       "    .dataframe tbody tr th {\n",
       "        vertical-align: top;\n",
       "    }\n",
       "\n",
       "    .dataframe thead th {\n",
       "        text-align: right;\n",
       "    }\n",
       "</style>\n",
       "<table border=\"1\" class=\"dataframe\">\n",
       "  <thead>\n",
       "    <tr style=\"text-align: right;\">\n",
       "      <th></th>\n",
       "      <th>model</th>\n",
       "      <th>price</th>\n",
       "      <th>age_08_04</th>\n",
       "      <th>mfg_month</th>\n",
       "      <th>mfg_year</th>\n",
       "      <th>km</th>\n",
       "      <th>fuel_type</th>\n",
       "      <th>hp</th>\n",
       "      <th>met_color</th>\n",
       "      <th>color</th>\n",
       "      <th>...</th>\n",
       "      <th>powered_windows</th>\n",
       "      <th>power_steering</th>\n",
       "      <th>radio</th>\n",
       "      <th>mistlamps</th>\n",
       "      <th>sport_model</th>\n",
       "      <th>backseat_divider</th>\n",
       "      <th>metallic_rim</th>\n",
       "      <th>radio_cassette</th>\n",
       "      <th>parking_assistant</th>\n",
       "      <th>tow_bar</th>\n",
       "    </tr>\n",
       "  </thead>\n",
       "  <tbody>\n",
       "    <tr>\n",
       "      <th>0</th>\n",
       "      <td>TOYOTA Corolla 2.0 D4D HATCHB TERRA 2/3-Doors</td>\n",
       "      <td>13500</td>\n",
       "      <td>23</td>\n",
       "      <td>10</td>\n",
       "      <td>2002</td>\n",
       "      <td>46986</td>\n",
       "      <td>Diesel</td>\n",
       "      <td>90</td>\n",
       "      <td>1</td>\n",
       "      <td>Blue</td>\n",
       "      <td>...</td>\n",
       "      <td>1</td>\n",
       "      <td>1</td>\n",
       "      <td>0</td>\n",
       "      <td>0</td>\n",
       "      <td>0</td>\n",
       "      <td>1</td>\n",
       "      <td>0</td>\n",
       "      <td>0</td>\n",
       "      <td>0</td>\n",
       "      <td>0</td>\n",
       "    </tr>\n",
       "    <tr>\n",
       "      <th>1</th>\n",
       "      <td>TOYOTA Corolla 2.0 D4D HATCHB TERRA 2/3-Doors</td>\n",
       "      <td>13750</td>\n",
       "      <td>23</td>\n",
       "      <td>10</td>\n",
       "      <td>2002</td>\n",
       "      <td>72937</td>\n",
       "      <td>Diesel</td>\n",
       "      <td>90</td>\n",
       "      <td>1</td>\n",
       "      <td>Silver</td>\n",
       "      <td>...</td>\n",
       "      <td>0</td>\n",
       "      <td>1</td>\n",
       "      <td>0</td>\n",
       "      <td>0</td>\n",
       "      <td>0</td>\n",
       "      <td>1</td>\n",
       "      <td>0</td>\n",
       "      <td>0</td>\n",
       "      <td>0</td>\n",
       "      <td>0</td>\n",
       "    </tr>\n",
       "    <tr>\n",
       "      <th>2</th>\n",
       "      <td>TOYOTA Corolla 2.0 D4D HATCHB TERRA 2/3-Doors</td>\n",
       "      <td>13950</td>\n",
       "      <td>24</td>\n",
       "      <td>9</td>\n",
       "      <td>2002</td>\n",
       "      <td>41711</td>\n",
       "      <td>Diesel</td>\n",
       "      <td>90</td>\n",
       "      <td>1</td>\n",
       "      <td>Blue</td>\n",
       "      <td>...</td>\n",
       "      <td>0</td>\n",
       "      <td>1</td>\n",
       "      <td>0</td>\n",
       "      <td>0</td>\n",
       "      <td>0</td>\n",
       "      <td>1</td>\n",
       "      <td>0</td>\n",
       "      <td>0</td>\n",
       "      <td>0</td>\n",
       "      <td>0</td>\n",
       "    </tr>\n",
       "    <tr>\n",
       "      <th>3</th>\n",
       "      <td>TOYOTA Corolla 2.0 D4D HATCHB TERRA 2/3-Doors</td>\n",
       "      <td>14950</td>\n",
       "      <td>26</td>\n",
       "      <td>7</td>\n",
       "      <td>2002</td>\n",
       "      <td>48000</td>\n",
       "      <td>Diesel</td>\n",
       "      <td>90</td>\n",
       "      <td>0</td>\n",
       "      <td>Black</td>\n",
       "      <td>...</td>\n",
       "      <td>0</td>\n",
       "      <td>1</td>\n",
       "      <td>0</td>\n",
       "      <td>0</td>\n",
       "      <td>0</td>\n",
       "      <td>1</td>\n",
       "      <td>0</td>\n",
       "      <td>0</td>\n",
       "      <td>0</td>\n",
       "      <td>0</td>\n",
       "    </tr>\n",
       "    <tr>\n",
       "      <th>4</th>\n",
       "      <td>TOYOTA Corolla 2.0 D4D HATCHB SOL 2/3-Doors</td>\n",
       "      <td>13750</td>\n",
       "      <td>30</td>\n",
       "      <td>3</td>\n",
       "      <td>2002</td>\n",
       "      <td>38500</td>\n",
       "      <td>Diesel</td>\n",
       "      <td>90</td>\n",
       "      <td>0</td>\n",
       "      <td>Black</td>\n",
       "      <td>...</td>\n",
       "      <td>1</td>\n",
       "      <td>1</td>\n",
       "      <td>0</td>\n",
       "      <td>1</td>\n",
       "      <td>0</td>\n",
       "      <td>1</td>\n",
       "      <td>0</td>\n",
       "      <td>0</td>\n",
       "      <td>0</td>\n",
       "      <td>0</td>\n",
       "    </tr>\n",
       "  </tbody>\n",
       "</table>\n",
       "<p>5 rows × 38 columns</p>\n",
       "</div>"
      ],
      "text/plain": [
       "                                           model  price  age_08_04  mfg_month  \\\n",
       "0  TOYOTA Corolla 2.0 D4D HATCHB TERRA 2/3-Doors  13500         23         10   \n",
       "1  TOYOTA Corolla 2.0 D4D HATCHB TERRA 2/3-Doors  13750         23         10   \n",
       "2  TOYOTA Corolla 2.0 D4D HATCHB TERRA 2/3-Doors  13950         24          9   \n",
       "3  TOYOTA Corolla 2.0 D4D HATCHB TERRA 2/3-Doors  14950         26          7   \n",
       "4    TOYOTA Corolla 2.0 D4D HATCHB SOL 2/3-Doors  13750         30          3   \n",
       "\n",
       "   mfg_year     km fuel_type  hp  met_color   color  ...  powered_windows  \\\n",
       "0      2002  46986    Diesel  90          1    Blue  ...                1   \n",
       "1      2002  72937    Diesel  90          1  Silver  ...                0   \n",
       "2      2002  41711    Diesel  90          1    Blue  ...                0   \n",
       "3      2002  48000    Diesel  90          0   Black  ...                0   \n",
       "4      2002  38500    Diesel  90          0   Black  ...                1   \n",
       "\n",
       "   power_steering  radio  mistlamps  sport_model  backseat_divider  \\\n",
       "0               1      0          0            0                 1   \n",
       "1               1      0          0            0                 1   \n",
       "2               1      0          0            0                 1   \n",
       "3               1      0          0            0                 1   \n",
       "4               1      0          1            0                 1   \n",
       "\n",
       "   metallic_rim  radio_cassette  parking_assistant  tow_bar  \n",
       "0             0               0                  0        0  \n",
       "1             0               0                  0        0  \n",
       "2             0               0                  0        0  \n",
       "3             0               0                  0        0  \n",
       "4             0               0                  0        0  \n",
       "\n",
       "[5 rows x 38 columns]"
      ]
     },
     "execution_count": 49,
     "metadata": {},
     "output_type": "execute_result"
    }
   ],
   "source": [
    "df = pd.read_csv(r\"C:\\Users\\Vish\\Desktop\\ExcelR\\Assignments\\Linear Regression\\Multiple Linear Regression\\ToyotaCorolla2.csv\")\n",
    "\n",
    "df.head()"
   ]
  },
  {
   "cell_type": "code",
   "execution_count": 50,
   "metadata": {},
   "outputs": [
    {
     "data": {
      "text/html": [
       "<div>\n",
       "<style scoped>\n",
       "    .dataframe tbody tr th:only-of-type {\n",
       "        vertical-align: middle;\n",
       "    }\n",
       "\n",
       "    .dataframe tbody tr th {\n",
       "        vertical-align: top;\n",
       "    }\n",
       "\n",
       "    .dataframe thead th {\n",
       "        text-align: right;\n",
       "    }\n",
       "</style>\n",
       "<table border=\"1\" class=\"dataframe\">\n",
       "  <thead>\n",
       "    <tr style=\"text-align: right;\">\n",
       "      <th></th>\n",
       "      <th>price</th>\n",
       "      <th>age_08_04</th>\n",
       "      <th>mfg_month</th>\n",
       "      <th>mfg_year</th>\n",
       "      <th>km</th>\n",
       "      <th>fuel_type</th>\n",
       "      <th>hp</th>\n",
       "      <th>met_color</th>\n",
       "      <th>color</th>\n",
       "      <th>automatic</th>\n",
       "      <th>cc</th>\n",
       "      <th>doors</th>\n",
       "      <th>cylinders</th>\n",
       "      <th>gears</th>\n",
       "      <th>quarterly_tax</th>\n",
       "      <th>weight</th>\n",
       "    </tr>\n",
       "  </thead>\n",
       "  <tbody>\n",
       "    <tr>\n",
       "      <th>0</th>\n",
       "      <td>13500</td>\n",
       "      <td>23</td>\n",
       "      <td>10</td>\n",
       "      <td>2002</td>\n",
       "      <td>46986</td>\n",
       "      <td>Diesel</td>\n",
       "      <td>90</td>\n",
       "      <td>1</td>\n",
       "      <td>Blue</td>\n",
       "      <td>0</td>\n",
       "      <td>2000</td>\n",
       "      <td>3</td>\n",
       "      <td>4</td>\n",
       "      <td>5</td>\n",
       "      <td>210</td>\n",
       "      <td>1165</td>\n",
       "    </tr>\n",
       "    <tr>\n",
       "      <th>1</th>\n",
       "      <td>13750</td>\n",
       "      <td>23</td>\n",
       "      <td>10</td>\n",
       "      <td>2002</td>\n",
       "      <td>72937</td>\n",
       "      <td>Diesel</td>\n",
       "      <td>90</td>\n",
       "      <td>1</td>\n",
       "      <td>Silver</td>\n",
       "      <td>0</td>\n",
       "      <td>2000</td>\n",
       "      <td>3</td>\n",
       "      <td>4</td>\n",
       "      <td>5</td>\n",
       "      <td>210</td>\n",
       "      <td>1165</td>\n",
       "    </tr>\n",
       "    <tr>\n",
       "      <th>2</th>\n",
       "      <td>13950</td>\n",
       "      <td>24</td>\n",
       "      <td>9</td>\n",
       "      <td>2002</td>\n",
       "      <td>41711</td>\n",
       "      <td>Diesel</td>\n",
       "      <td>90</td>\n",
       "      <td>1</td>\n",
       "      <td>Blue</td>\n",
       "      <td>0</td>\n",
       "      <td>2000</td>\n",
       "      <td>3</td>\n",
       "      <td>4</td>\n",
       "      <td>5</td>\n",
       "      <td>210</td>\n",
       "      <td>1165</td>\n",
       "    </tr>\n",
       "    <tr>\n",
       "      <th>3</th>\n",
       "      <td>14950</td>\n",
       "      <td>26</td>\n",
       "      <td>7</td>\n",
       "      <td>2002</td>\n",
       "      <td>48000</td>\n",
       "      <td>Diesel</td>\n",
       "      <td>90</td>\n",
       "      <td>0</td>\n",
       "      <td>Black</td>\n",
       "      <td>0</td>\n",
       "      <td>2000</td>\n",
       "      <td>3</td>\n",
       "      <td>4</td>\n",
       "      <td>5</td>\n",
       "      <td>210</td>\n",
       "      <td>1165</td>\n",
       "    </tr>\n",
       "    <tr>\n",
       "      <th>4</th>\n",
       "      <td>13750</td>\n",
       "      <td>30</td>\n",
       "      <td>3</td>\n",
       "      <td>2002</td>\n",
       "      <td>38500</td>\n",
       "      <td>Diesel</td>\n",
       "      <td>90</td>\n",
       "      <td>0</td>\n",
       "      <td>Black</td>\n",
       "      <td>0</td>\n",
       "      <td>2000</td>\n",
       "      <td>3</td>\n",
       "      <td>4</td>\n",
       "      <td>5</td>\n",
       "      <td>210</td>\n",
       "      <td>1170</td>\n",
       "    </tr>\n",
       "  </tbody>\n",
       "</table>\n",
       "</div>"
      ],
      "text/plain": [
       "   price  age_08_04  mfg_month  mfg_year     km fuel_type  hp  met_color  \\\n",
       "0  13500         23         10      2002  46986    Diesel  90          1   \n",
       "1  13750         23         10      2002  72937    Diesel  90          1   \n",
       "2  13950         24          9      2002  41711    Diesel  90          1   \n",
       "3  14950         26          7      2002  48000    Diesel  90          0   \n",
       "4  13750         30          3      2002  38500    Diesel  90          0   \n",
       "\n",
       "    color  automatic    cc  doors  cylinders  gears  quarterly_tax  weight  \n",
       "0    Blue          0  2000      3          4      5            210    1165  \n",
       "1  Silver          0  2000      3          4      5            210    1165  \n",
       "2    Blue          0  2000      3          4      5            210    1165  \n",
       "3   Black          0  2000      3          4      5            210    1165  \n",
       "4   Black          0  2000      3          4      5            210    1170  "
      ]
     },
     "execution_count": 50,
     "metadata": {},
     "output_type": "execute_result"
    }
   ],
   "source": [
    "df2 = df.iloc[:,1:17] #taking only required features\n",
    "df2.head()"
   ]
  },
  {
   "cell_type": "code",
   "execution_count": 51,
   "metadata": {},
   "outputs": [
    {
     "data": {
      "text/html": [
       "<div>\n",
       "<style scoped>\n",
       "    .dataframe tbody tr th:only-of-type {\n",
       "        vertical-align: middle;\n",
       "    }\n",
       "\n",
       "    .dataframe tbody tr th {\n",
       "        vertical-align: top;\n",
       "    }\n",
       "\n",
       "    .dataframe thead th {\n",
       "        text-align: right;\n",
       "    }\n",
       "</style>\n",
       "<table border=\"1\" class=\"dataframe\">\n",
       "  <thead>\n",
       "    <tr style=\"text-align: right;\">\n",
       "      <th></th>\n",
       "      <th>price</th>\n",
       "      <th>age_08_04</th>\n",
       "      <th>km</th>\n",
       "      <th>hp</th>\n",
       "      <th>cc</th>\n",
       "      <th>doors</th>\n",
       "      <th>gears</th>\n",
       "      <th>quarterly_tax</th>\n",
       "      <th>weight</th>\n",
       "    </tr>\n",
       "  </thead>\n",
       "  <tbody>\n",
       "    <tr>\n",
       "      <th>0</th>\n",
       "      <td>13500</td>\n",
       "      <td>23</td>\n",
       "      <td>46986</td>\n",
       "      <td>90</td>\n",
       "      <td>2000</td>\n",
       "      <td>3</td>\n",
       "      <td>5</td>\n",
       "      <td>210</td>\n",
       "      <td>1165</td>\n",
       "    </tr>\n",
       "    <tr>\n",
       "      <th>1</th>\n",
       "      <td>13750</td>\n",
       "      <td>23</td>\n",
       "      <td>72937</td>\n",
       "      <td>90</td>\n",
       "      <td>2000</td>\n",
       "      <td>3</td>\n",
       "      <td>5</td>\n",
       "      <td>210</td>\n",
       "      <td>1165</td>\n",
       "    </tr>\n",
       "    <tr>\n",
       "      <th>2</th>\n",
       "      <td>13950</td>\n",
       "      <td>24</td>\n",
       "      <td>41711</td>\n",
       "      <td>90</td>\n",
       "      <td>2000</td>\n",
       "      <td>3</td>\n",
       "      <td>5</td>\n",
       "      <td>210</td>\n",
       "      <td>1165</td>\n",
       "    </tr>\n",
       "    <tr>\n",
       "      <th>3</th>\n",
       "      <td>14950</td>\n",
       "      <td>26</td>\n",
       "      <td>48000</td>\n",
       "      <td>90</td>\n",
       "      <td>2000</td>\n",
       "      <td>3</td>\n",
       "      <td>5</td>\n",
       "      <td>210</td>\n",
       "      <td>1165</td>\n",
       "    </tr>\n",
       "    <tr>\n",
       "      <th>4</th>\n",
       "      <td>13750</td>\n",
       "      <td>30</td>\n",
       "      <td>38500</td>\n",
       "      <td>90</td>\n",
       "      <td>2000</td>\n",
       "      <td>3</td>\n",
       "      <td>5</td>\n",
       "      <td>210</td>\n",
       "      <td>1170</td>\n",
       "    </tr>\n",
       "  </tbody>\n",
       "</table>\n",
       "</div>"
      ],
      "text/plain": [
       "   price  age_08_04     km  hp    cc  doors  gears  quarterly_tax  weight\n",
       "0  13500         23  46986  90  2000      3      5            210    1165\n",
       "1  13750         23  72937  90  2000      3      5            210    1165\n",
       "2  13950         24  41711  90  2000      3      5            210    1165\n",
       "3  14950         26  48000  90  2000      3      5            210    1165\n",
       "4  13750         30  38500  90  2000      3      5            210    1170"
      ]
     },
     "execution_count": 51,
     "metadata": {},
     "output_type": "execute_result"
    }
   ],
   "source": [
    "df3 = df2.drop([\"mfg_month\",\"mfg_year\",\"fuel_type\",\"met_color\",\"color\",\"automatic\",\"cylinders\"],axis=1)\n",
    "\n",
    "df3.head() #dropping unimportant features\n"
   ]
  },
  {
   "cell_type": "code",
   "execution_count": 52,
   "metadata": {},
   "outputs": [
    {
     "data": {
      "text/html": [
       "<div>\n",
       "<style scoped>\n",
       "    .dataframe tbody tr th:only-of-type {\n",
       "        vertical-align: middle;\n",
       "    }\n",
       "\n",
       "    .dataframe tbody tr th {\n",
       "        vertical-align: top;\n",
       "    }\n",
       "\n",
       "    .dataframe thead th {\n",
       "        text-align: right;\n",
       "    }\n",
       "</style>\n",
       "<table border=\"1\" class=\"dataframe\">\n",
       "  <thead>\n",
       "    <tr style=\"text-align: right;\">\n",
       "      <th></th>\n",
       "      <th>price</th>\n",
       "      <th>age</th>\n",
       "      <th>km</th>\n",
       "      <th>hp</th>\n",
       "      <th>cc</th>\n",
       "      <th>doors</th>\n",
       "      <th>gears</th>\n",
       "      <th>qtax</th>\n",
       "      <th>weight</th>\n",
       "    </tr>\n",
       "  </thead>\n",
       "  <tbody>\n",
       "    <tr>\n",
       "      <th>0</th>\n",
       "      <td>13500</td>\n",
       "      <td>23</td>\n",
       "      <td>46986</td>\n",
       "      <td>90</td>\n",
       "      <td>2000</td>\n",
       "      <td>3</td>\n",
       "      <td>5</td>\n",
       "      <td>210</td>\n",
       "      <td>1165</td>\n",
       "    </tr>\n",
       "    <tr>\n",
       "      <th>1</th>\n",
       "      <td>13750</td>\n",
       "      <td>23</td>\n",
       "      <td>72937</td>\n",
       "      <td>90</td>\n",
       "      <td>2000</td>\n",
       "      <td>3</td>\n",
       "      <td>5</td>\n",
       "      <td>210</td>\n",
       "      <td>1165</td>\n",
       "    </tr>\n",
       "    <tr>\n",
       "      <th>2</th>\n",
       "      <td>13950</td>\n",
       "      <td>24</td>\n",
       "      <td>41711</td>\n",
       "      <td>90</td>\n",
       "      <td>2000</td>\n",
       "      <td>3</td>\n",
       "      <td>5</td>\n",
       "      <td>210</td>\n",
       "      <td>1165</td>\n",
       "    </tr>\n",
       "    <tr>\n",
       "      <th>3</th>\n",
       "      <td>14950</td>\n",
       "      <td>26</td>\n",
       "      <td>48000</td>\n",
       "      <td>90</td>\n",
       "      <td>2000</td>\n",
       "      <td>3</td>\n",
       "      <td>5</td>\n",
       "      <td>210</td>\n",
       "      <td>1165</td>\n",
       "    </tr>\n",
       "    <tr>\n",
       "      <th>4</th>\n",
       "      <td>13750</td>\n",
       "      <td>30</td>\n",
       "      <td>38500</td>\n",
       "      <td>90</td>\n",
       "      <td>2000</td>\n",
       "      <td>3</td>\n",
       "      <td>5</td>\n",
       "      <td>210</td>\n",
       "      <td>1170</td>\n",
       "    </tr>\n",
       "  </tbody>\n",
       "</table>\n",
       "</div>"
      ],
      "text/plain": [
       "   price  age     km  hp    cc  doors  gears  qtax  weight\n",
       "0  13500   23  46986  90  2000      3      5   210    1165\n",
       "1  13750   23  72937  90  2000      3      5   210    1165\n",
       "2  13950   24  41711  90  2000      3      5   210    1165\n",
       "3  14950   26  48000  90  2000      3      5   210    1165\n",
       "4  13750   30  38500  90  2000      3      5   210    1170"
      ]
     },
     "execution_count": 52,
     "metadata": {},
     "output_type": "execute_result"
    }
   ],
   "source": [
    "df4 = df3.rename({'age_08_04': 'age', 'quarterly_tax': 'qtax'}, axis=1)\n",
    "\n",
    "df4.head() #renaming columns"
   ]
  },
  {
   "cell_type": "code",
   "execution_count": 53,
   "metadata": {},
   "outputs": [
    {
     "data": {
      "text/plain": [
       "price     1436\n",
       "age       1436\n",
       "km        1436\n",
       "hp        1436\n",
       "cc        1436\n",
       "doors     1436\n",
       "gears     1436\n",
       "qtax      1436\n",
       "weight    1436\n",
       "dtype: int64"
      ]
     },
     "execution_count": 53,
     "metadata": {},
     "output_type": "execute_result"
    }
   ],
   "source": [
    "df4.count() #count for all features"
   ]
  },
  {
   "cell_type": "markdown",
   "metadata": {},
   "source": [
    "# Business Moments"
   ]
  },
  {
   "cell_type": "code",
   "execution_count": 54,
   "metadata": {},
   "outputs": [
    {
     "data": {
      "text/plain": [
       "price     10730.824513\n",
       "age          55.947075\n",
       "km        68533.259749\n",
       "hp          101.502089\n",
       "cc         1576.855850\n",
       "doors         4.033426\n",
       "gears         5.026462\n",
       "qtax         87.122563\n",
       "weight     1072.459610\n",
       "dtype: float64"
      ]
     },
     "execution_count": 54,
     "metadata": {},
     "output_type": "execute_result"
    }
   ],
   "source": [
    "df4.mean()"
   ]
  },
  {
   "cell_type": "code",
   "execution_count": 55,
   "metadata": {},
   "outputs": [
    {
     "data": {
      "text/plain": [
       "price      9900.0\n",
       "age          61.0\n",
       "km        63389.5\n",
       "hp          110.0\n",
       "cc         1600.0\n",
       "doors         4.0\n",
       "gears         5.0\n",
       "qtax         85.0\n",
       "weight     1070.0\n",
       "dtype: float64"
      ]
     },
     "execution_count": 55,
     "metadata": {},
     "output_type": "execute_result"
    }
   ],
   "source": [
    "df4.median()"
   ]
  },
  {
   "cell_type": "code",
   "execution_count": 56,
   "metadata": {},
   "outputs": [
    {
     "data": {
      "text/html": [
       "<div>\n",
       "<style scoped>\n",
       "    .dataframe tbody tr th:only-of-type {\n",
       "        vertical-align: middle;\n",
       "    }\n",
       "\n",
       "    .dataframe tbody tr th {\n",
       "        vertical-align: top;\n",
       "    }\n",
       "\n",
       "    .dataframe thead th {\n",
       "        text-align: right;\n",
       "    }\n",
       "</style>\n",
       "<table border=\"1\" class=\"dataframe\">\n",
       "  <thead>\n",
       "    <tr style=\"text-align: right;\">\n",
       "      <th></th>\n",
       "      <th>price</th>\n",
       "      <th>age</th>\n",
       "      <th>km</th>\n",
       "      <th>hp</th>\n",
       "      <th>cc</th>\n",
       "      <th>doors</th>\n",
       "      <th>gears</th>\n",
       "      <th>qtax</th>\n",
       "      <th>weight</th>\n",
       "    </tr>\n",
       "  </thead>\n",
       "  <tbody>\n",
       "    <tr>\n",
       "      <th>0</th>\n",
       "      <td>8950</td>\n",
       "      <td>68</td>\n",
       "      <td>36000</td>\n",
       "      <td>110</td>\n",
       "      <td>1600</td>\n",
       "      <td>5</td>\n",
       "      <td>5</td>\n",
       "      <td>85</td>\n",
       "      <td>1075</td>\n",
       "    </tr>\n",
       "  </tbody>\n",
       "</table>\n",
       "</div>"
      ],
      "text/plain": [
       "   price  age     km   hp    cc  doors  gears  qtax  weight\n",
       "0   8950   68  36000  110  1600      5      5    85    1075"
      ]
     },
     "execution_count": 56,
     "metadata": {},
     "output_type": "execute_result"
    }
   ],
   "source": [
    "df4.mode()"
   ]
  },
  {
   "cell_type": "code",
   "execution_count": 57,
   "metadata": {},
   "outputs": [
    {
     "data": {
      "text/plain": [
       "price     1.315487e+07\n",
       "age       3.459596e+02\n",
       "km        1.406734e+09\n",
       "hp        2.244327e+02\n",
       "cc        1.801041e+05\n",
       "doors     9.075927e-01\n",
       "gears     3.553619e-02\n",
       "qtax      1.691563e+03\n",
       "weight    2.771088e+03\n",
       "dtype: float64"
      ]
     },
     "execution_count": 57,
     "metadata": {},
     "output_type": "execute_result"
    }
   ],
   "source": [
    "df4.var()"
   ]
  },
  {
   "cell_type": "code",
   "execution_count": 58,
   "metadata": {},
   "outputs": [
    {
     "data": {
      "text/plain": [
       "price      3626.964585\n",
       "age          18.599988\n",
       "km        37506.448872\n",
       "hp           14.981080\n",
       "cc          424.386770\n",
       "doors         0.952677\n",
       "gears         0.188510\n",
       "qtax         41.128611\n",
       "weight       52.641120\n",
       "dtype: float64"
      ]
     },
     "execution_count": 58,
     "metadata": {},
     "output_type": "execute_result"
    }
   ],
   "source": [
    "df4.std()"
   ]
  },
  {
   "cell_type": "markdown",
   "metadata": {},
   "source": [
    "# EDA"
   ]
  },
  {
   "cell_type": "code",
   "execution_count": 59,
   "metadata": {},
   "outputs": [
    {
     "data": {
      "text/plain": [
       "price     0\n",
       "age       0\n",
       "km        0\n",
       "hp        0\n",
       "cc        0\n",
       "doors     0\n",
       "gears     0\n",
       "qtax      0\n",
       "weight    0\n",
       "dtype: int64"
      ]
     },
     "execution_count": 59,
     "metadata": {},
     "output_type": "execute_result"
    }
   ],
   "source": [
    "df4.isnull().sum() #finding null values"
   ]
  },
  {
   "cell_type": "code",
   "execution_count": 101,
   "metadata": {},
   "outputs": [
    {
     "data": {
      "text/plain": [
       "price     int64\n",
       "age       int64\n",
       "km        int64\n",
       "hp        int64\n",
       "cc        int64\n",
       "doors     int64\n",
       "gears     int64\n",
       "qtax      int64\n",
       "weight    int64\n",
       "dtype: object"
      ]
     },
     "execution_count": 101,
     "metadata": {},
     "output_type": "execute_result"
    }
   ],
   "source": [
    "df4.dtypes #finding dtypes of features"
   ]
  },
  {
   "cell_type": "code",
   "execution_count": 60,
   "metadata": {},
   "outputs": [
    {
     "data": {
      "text/html": [
       "<div>\n",
       "<style scoped>\n",
       "    .dataframe tbody tr th:only-of-type {\n",
       "        vertical-align: middle;\n",
       "    }\n",
       "\n",
       "    .dataframe tbody tr th {\n",
       "        vertical-align: top;\n",
       "    }\n",
       "\n",
       "    .dataframe thead th {\n",
       "        text-align: right;\n",
       "    }\n",
       "</style>\n",
       "<table border=\"1\" class=\"dataframe\">\n",
       "  <thead>\n",
       "    <tr style=\"text-align: right;\">\n",
       "      <th></th>\n",
       "      <th>price</th>\n",
       "      <th>age</th>\n",
       "      <th>km</th>\n",
       "      <th>hp</th>\n",
       "      <th>cc</th>\n",
       "      <th>doors</th>\n",
       "      <th>gears</th>\n",
       "      <th>qtax</th>\n",
       "      <th>weight</th>\n",
       "    </tr>\n",
       "  </thead>\n",
       "  <tbody>\n",
       "    <tr>\n",
       "      <th>count</th>\n",
       "      <td>1436.000000</td>\n",
       "      <td>1436.000000</td>\n",
       "      <td>1436.000000</td>\n",
       "      <td>1436.000000</td>\n",
       "      <td>1436.00000</td>\n",
       "      <td>1436.000000</td>\n",
       "      <td>1436.000000</td>\n",
       "      <td>1436.000000</td>\n",
       "      <td>1436.00000</td>\n",
       "    </tr>\n",
       "    <tr>\n",
       "      <th>mean</th>\n",
       "      <td>10730.824513</td>\n",
       "      <td>55.947075</td>\n",
       "      <td>68533.259749</td>\n",
       "      <td>101.502089</td>\n",
       "      <td>1576.85585</td>\n",
       "      <td>4.033426</td>\n",
       "      <td>5.026462</td>\n",
       "      <td>87.122563</td>\n",
       "      <td>1072.45961</td>\n",
       "    </tr>\n",
       "    <tr>\n",
       "      <th>std</th>\n",
       "      <td>3626.964585</td>\n",
       "      <td>18.599988</td>\n",
       "      <td>37506.448872</td>\n",
       "      <td>14.981080</td>\n",
       "      <td>424.38677</td>\n",
       "      <td>0.952677</td>\n",
       "      <td>0.188510</td>\n",
       "      <td>41.128611</td>\n",
       "      <td>52.64112</td>\n",
       "    </tr>\n",
       "    <tr>\n",
       "      <th>min</th>\n",
       "      <td>4350.000000</td>\n",
       "      <td>1.000000</td>\n",
       "      <td>1.000000</td>\n",
       "      <td>69.000000</td>\n",
       "      <td>1300.00000</td>\n",
       "      <td>2.000000</td>\n",
       "      <td>3.000000</td>\n",
       "      <td>19.000000</td>\n",
       "      <td>1000.00000</td>\n",
       "    </tr>\n",
       "    <tr>\n",
       "      <th>25%</th>\n",
       "      <td>8450.000000</td>\n",
       "      <td>44.000000</td>\n",
       "      <td>43000.000000</td>\n",
       "      <td>90.000000</td>\n",
       "      <td>1400.00000</td>\n",
       "      <td>3.000000</td>\n",
       "      <td>5.000000</td>\n",
       "      <td>69.000000</td>\n",
       "      <td>1040.00000</td>\n",
       "    </tr>\n",
       "    <tr>\n",
       "      <th>50%</th>\n",
       "      <td>9900.000000</td>\n",
       "      <td>61.000000</td>\n",
       "      <td>63389.500000</td>\n",
       "      <td>110.000000</td>\n",
       "      <td>1600.00000</td>\n",
       "      <td>4.000000</td>\n",
       "      <td>5.000000</td>\n",
       "      <td>85.000000</td>\n",
       "      <td>1070.00000</td>\n",
       "    </tr>\n",
       "    <tr>\n",
       "      <th>75%</th>\n",
       "      <td>11950.000000</td>\n",
       "      <td>70.000000</td>\n",
       "      <td>87020.750000</td>\n",
       "      <td>110.000000</td>\n",
       "      <td>1600.00000</td>\n",
       "      <td>5.000000</td>\n",
       "      <td>5.000000</td>\n",
       "      <td>85.000000</td>\n",
       "      <td>1085.00000</td>\n",
       "    </tr>\n",
       "    <tr>\n",
       "      <th>max</th>\n",
       "      <td>32500.000000</td>\n",
       "      <td>80.000000</td>\n",
       "      <td>243000.000000</td>\n",
       "      <td>192.000000</td>\n",
       "      <td>16000.00000</td>\n",
       "      <td>5.000000</td>\n",
       "      <td>6.000000</td>\n",
       "      <td>283.000000</td>\n",
       "      <td>1615.00000</td>\n",
       "    </tr>\n",
       "  </tbody>\n",
       "</table>\n",
       "</div>"
      ],
      "text/plain": [
       "              price          age             km           hp           cc  \\\n",
       "count   1436.000000  1436.000000    1436.000000  1436.000000   1436.00000   \n",
       "mean   10730.824513    55.947075   68533.259749   101.502089   1576.85585   \n",
       "std     3626.964585    18.599988   37506.448872    14.981080    424.38677   \n",
       "min     4350.000000     1.000000       1.000000    69.000000   1300.00000   \n",
       "25%     8450.000000    44.000000   43000.000000    90.000000   1400.00000   \n",
       "50%     9900.000000    61.000000   63389.500000   110.000000   1600.00000   \n",
       "75%    11950.000000    70.000000   87020.750000   110.000000   1600.00000   \n",
       "max    32500.000000    80.000000  243000.000000   192.000000  16000.00000   \n",
       "\n",
       "             doors        gears         qtax      weight  \n",
       "count  1436.000000  1436.000000  1436.000000  1436.00000  \n",
       "mean      4.033426     5.026462    87.122563  1072.45961  \n",
       "std       0.952677     0.188510    41.128611    52.64112  \n",
       "min       2.000000     3.000000    19.000000  1000.00000  \n",
       "25%       3.000000     5.000000    69.000000  1040.00000  \n",
       "50%       4.000000     5.000000    85.000000  1070.00000  \n",
       "75%       5.000000     5.000000    85.000000  1085.00000  \n",
       "max       5.000000     6.000000   283.000000  1615.00000  "
      ]
     },
     "execution_count": 60,
     "metadata": {},
     "output_type": "execute_result"
    }
   ],
   "source": [
    "df4.describe() #finding statistic of our features"
   ]
  },
  {
   "cell_type": "markdown",
   "metadata": {},
   "source": [
    "# Correlation Matrix"
   ]
  },
  {
   "cell_type": "code",
   "execution_count": 61,
   "metadata": {},
   "outputs": [
    {
     "data": {
      "text/html": [
       "<div>\n",
       "<style scoped>\n",
       "    .dataframe tbody tr th:only-of-type {\n",
       "        vertical-align: middle;\n",
       "    }\n",
       "\n",
       "    .dataframe tbody tr th {\n",
       "        vertical-align: top;\n",
       "    }\n",
       "\n",
       "    .dataframe thead th {\n",
       "        text-align: right;\n",
       "    }\n",
       "</style>\n",
       "<table border=\"1\" class=\"dataframe\">\n",
       "  <thead>\n",
       "    <tr style=\"text-align: right;\">\n",
       "      <th></th>\n",
       "      <th>price</th>\n",
       "      <th>age</th>\n",
       "      <th>km</th>\n",
       "      <th>hp</th>\n",
       "      <th>cc</th>\n",
       "      <th>doors</th>\n",
       "      <th>gears</th>\n",
       "      <th>qtax</th>\n",
       "      <th>weight</th>\n",
       "    </tr>\n",
       "  </thead>\n",
       "  <tbody>\n",
       "    <tr>\n",
       "      <th>price</th>\n",
       "      <td>1.000000</td>\n",
       "      <td>-0.876590</td>\n",
       "      <td>-0.569960</td>\n",
       "      <td>0.314990</td>\n",
       "      <td>0.126389</td>\n",
       "      <td>0.185326</td>\n",
       "      <td>0.063104</td>\n",
       "      <td>0.219197</td>\n",
       "      <td>0.581198</td>\n",
       "    </tr>\n",
       "    <tr>\n",
       "      <th>age</th>\n",
       "      <td>-0.876590</td>\n",
       "      <td>1.000000</td>\n",
       "      <td>0.505672</td>\n",
       "      <td>-0.156622</td>\n",
       "      <td>-0.098084</td>\n",
       "      <td>-0.148359</td>\n",
       "      <td>-0.005364</td>\n",
       "      <td>-0.198431</td>\n",
       "      <td>-0.470253</td>\n",
       "    </tr>\n",
       "    <tr>\n",
       "      <th>km</th>\n",
       "      <td>-0.569960</td>\n",
       "      <td>0.505672</td>\n",
       "      <td>1.000000</td>\n",
       "      <td>-0.333538</td>\n",
       "      <td>0.102683</td>\n",
       "      <td>-0.036197</td>\n",
       "      <td>0.015023</td>\n",
       "      <td>0.278165</td>\n",
       "      <td>-0.028598</td>\n",
       "    </tr>\n",
       "    <tr>\n",
       "      <th>hp</th>\n",
       "      <td>0.314990</td>\n",
       "      <td>-0.156622</td>\n",
       "      <td>-0.333538</td>\n",
       "      <td>1.000000</td>\n",
       "      <td>0.035856</td>\n",
       "      <td>0.092424</td>\n",
       "      <td>0.209477</td>\n",
       "      <td>-0.298432</td>\n",
       "      <td>0.089614</td>\n",
       "    </tr>\n",
       "    <tr>\n",
       "      <th>cc</th>\n",
       "      <td>0.126389</td>\n",
       "      <td>-0.098084</td>\n",
       "      <td>0.102683</td>\n",
       "      <td>0.035856</td>\n",
       "      <td>1.000000</td>\n",
       "      <td>0.079903</td>\n",
       "      <td>0.014629</td>\n",
       "      <td>0.306996</td>\n",
       "      <td>0.335637</td>\n",
       "    </tr>\n",
       "    <tr>\n",
       "      <th>doors</th>\n",
       "      <td>0.185326</td>\n",
       "      <td>-0.148359</td>\n",
       "      <td>-0.036197</td>\n",
       "      <td>0.092424</td>\n",
       "      <td>0.079903</td>\n",
       "      <td>1.000000</td>\n",
       "      <td>-0.160141</td>\n",
       "      <td>0.109363</td>\n",
       "      <td>0.302618</td>\n",
       "    </tr>\n",
       "    <tr>\n",
       "      <th>gears</th>\n",
       "      <td>0.063104</td>\n",
       "      <td>-0.005364</td>\n",
       "      <td>0.015023</td>\n",
       "      <td>0.209477</td>\n",
       "      <td>0.014629</td>\n",
       "      <td>-0.160141</td>\n",
       "      <td>1.000000</td>\n",
       "      <td>-0.005452</td>\n",
       "      <td>0.020613</td>\n",
       "    </tr>\n",
       "    <tr>\n",
       "      <th>qtax</th>\n",
       "      <td>0.219197</td>\n",
       "      <td>-0.198431</td>\n",
       "      <td>0.278165</td>\n",
       "      <td>-0.298432</td>\n",
       "      <td>0.306996</td>\n",
       "      <td>0.109363</td>\n",
       "      <td>-0.005452</td>\n",
       "      <td>1.000000</td>\n",
       "      <td>0.626134</td>\n",
       "    </tr>\n",
       "    <tr>\n",
       "      <th>weight</th>\n",
       "      <td>0.581198</td>\n",
       "      <td>-0.470253</td>\n",
       "      <td>-0.028598</td>\n",
       "      <td>0.089614</td>\n",
       "      <td>0.335637</td>\n",
       "      <td>0.302618</td>\n",
       "      <td>0.020613</td>\n",
       "      <td>0.626134</td>\n",
       "      <td>1.000000</td>\n",
       "    </tr>\n",
       "  </tbody>\n",
       "</table>\n",
       "</div>"
      ],
      "text/plain": [
       "           price       age        km        hp        cc     doors     gears  \\\n",
       "price   1.000000 -0.876590 -0.569960  0.314990  0.126389  0.185326  0.063104   \n",
       "age    -0.876590  1.000000  0.505672 -0.156622 -0.098084 -0.148359 -0.005364   \n",
       "km     -0.569960  0.505672  1.000000 -0.333538  0.102683 -0.036197  0.015023   \n",
       "hp      0.314990 -0.156622 -0.333538  1.000000  0.035856  0.092424  0.209477   \n",
       "cc      0.126389 -0.098084  0.102683  0.035856  1.000000  0.079903  0.014629   \n",
       "doors   0.185326 -0.148359 -0.036197  0.092424  0.079903  1.000000 -0.160141   \n",
       "gears   0.063104 -0.005364  0.015023  0.209477  0.014629 -0.160141  1.000000   \n",
       "qtax    0.219197 -0.198431  0.278165 -0.298432  0.306996  0.109363 -0.005452   \n",
       "weight  0.581198 -0.470253 -0.028598  0.089614  0.335637  0.302618  0.020613   \n",
       "\n",
       "            qtax    weight  \n",
       "price   0.219197  0.581198  \n",
       "age    -0.198431 -0.470253  \n",
       "km      0.278165 -0.028598  \n",
       "hp     -0.298432  0.089614  \n",
       "cc      0.306996  0.335637  \n",
       "doors   0.109363  0.302618  \n",
       "gears  -0.005452  0.020613  \n",
       "qtax    1.000000  0.626134  \n",
       "weight  0.626134  1.000000  "
      ]
     },
     "execution_count": 61,
     "metadata": {},
     "output_type": "execute_result"
    }
   ],
   "source": [
    "df4.corr() # Finding the correlation between all the features."
   ]
  },
  {
   "cell_type": "markdown",
   "metadata": {},
   "source": [
    "<li> We can observe that Price has a strong negative relationship with age and km.\n",
    "<li> We can observe that Price has a positve relationship with weight.\n",
    "<li> There is a positive relationship with age and km.\n",
    "<li> There is a negative realtionship with age and weight.\n",
    "<li>There is a positive realtionship with qtax and weight."
   ]
  },
  {
   "cell_type": "code",
   "execution_count": 62,
   "metadata": {},
   "outputs": [
    {
     "data": {
      "image/png": "[encoded data removed]",
      "text/plain": [
       "<Figure size 504x504 with 2 Axes>"
      ]
     },
     "metadata": {
      "needs_background": "light"
     },
     "output_type": "display_data"
    }
   ],
   "source": [
    "# Visualizing the correlation\n",
    "\n",
    "fig, ax = plt.subplots(figsize=(7,7)) #for size\n",
    "\n",
    "#Generate Heat Map, allow annotations and place floats in map\n",
    "\n",
    "sns.heatmap(df4.corr(), annot=True, cmap='magma', fmt='.2f')\n",
    "\n",
    "plt.show()"
   ]
  },
  {
   "cell_type": "code",
   "execution_count": 103,
   "metadata": {},
   "outputs": [
    {
     "data": {
      "image/png": "[encoded data removed]",
      "text/plain": [
       "<Figure size 1440x1152 with 8 Axes>"
      ]
     },
     "metadata": {
      "needs_background": "light"
     },
     "output_type": "display_data"
    }
   ],
   "source": [
    "# plot regplots  for Age, KM, Gears & Weight against Price\n",
    "f, axes = plt.subplots(4,2, figsize=(20,16))\n",
    "\n",
    "\n",
    "# Age Vs Price\n",
    "sns.regplot(x = 'price', y = 'age', data = df4, ax = axes[0,0], scatter_kws={'alpha':0.6}, color='orange')\n",
    "axes[0,0].set_xlabel('Price', fontsize = 14)\n",
    "axes[0,0].set_ylabel('Age', fontsize=14)\n",
    "axes[0,0].yaxis.tick_left()\n",
    "\n",
    "\n",
    "# KM Vs Price\n",
    "sns.regplot(x = 'price', y = 'km', data = df4, ax = axes[0,1], scatter_kws={'alpha':0.6}, color='pink' )\n",
    "axes[0,1].set_xlabel('Price', fontsize = 14)\n",
    "axes[0,1].set_ylabel('KM', fontsize=14)\n",
    "axes[0,1].yaxis.set_label_position(\"right\")\n",
    "axes[0,1].yaxis.tick_right()\n",
    "\n",
    "\n",
    "# Gears Vs Price\n",
    "sns.boxplot(x=\"gears\", y=\"price\", data=df4, width=0.8, ax = axes[1,0])\n",
    "axes[1,0].set_xlabel('Gears', fontsize = 14)\n",
    "axes[1,0].set_ylabel('Price', fontsize=14)\n",
    "axes[1,0].yaxis.tick_left()\n",
    "\n",
    "\n",
    "# Weight Vs Price\n",
    "sns.regplot(x = 'price', y = 'weight', data = df4, ax = axes[1,1], scatter_kws={'alpha':0.6}, color='green')\n",
    "axes[1,1].set_xlabel('Price', fontsize = 14)\n",
    "axes[1,1].set_ylabel('Weight', fontsize=14)\n",
    "axes[1,1].yaxis.set_label_position(\"right\")\n",
    "axes[1,1].yaxis.tick_right()\n",
    "\n",
    "\n",
    "# Density Plot of KM\n",
    "sns.distplot(df4['km'], hist=True, kde=True, bins=int(180/5), ax = axes[2,0], color = 'darkblue', hist_kws={'edgecolor':'black'}, kde_kws={'linewidth': 4})\n",
    "axes[2,0].set_xlabel('km', fontsize = 14)\n",
    "axes[2,0].set_ylabel('Count', fontsize=14)\n",
    "axes[2,0].yaxis.tick_left()\n",
    "\n",
    "\n",
    "#Boxplot for categorical variable cc against Price\n",
    "sns.boxplot(x=\"cc\", y=\"price\", data=df4, ax = axes[2,1] ,width=0.8)\n",
    "axes[2,1].set_xlabel('cc', fontsize = 14)\n",
    "axes[2,1].set_ylabel('Price', fontsize=14)\n",
    "axes[2,1].yaxis.set_label_position(\"right\")\n",
    "axes[2,1].yaxis.tick_right()\n",
    "\n",
    "\n",
    "\n",
    "# Density Plot of HP\n",
    "sns.distplot(df4['hp'], hist=True, kde=True, bins=int(100/5), ax = axes[3,0], color = 'darkblue', hist_kws={'edgecolor':'black'}, kde_kws={'linewidth': 4})\n",
    "axes[3,0].set_xlabel('hp', fontsize = 14)\n",
    "axes[3,0].set_ylabel('Count', fontsize=14)\n",
    "axes[3,0].yaxis.tick_left()\n",
    "\n",
    "\n",
    "# Density plot for Doors\n",
    "sns.distplot(df4['doors'], hist=True, kde=True, bins=int(60/5), ax = axes[3,1], color = 'darkblue', hist_kws={'edgecolor':'black'}, kde_kws={'linewidth': 4})\n",
    "axes[3,1].set_xlabel('doors', fontsize = 14)\n",
    "axes[3,1].set_ylabel('Count', fontsize=14)\n",
    "axes[3,1].yaxis.set_label_position(\"right\")\n",
    "axes[3,1].yaxis.tick_right()\n",
    "\n",
    "\n",
    "\n",
    "plt.show()\n"
   ]
  },
  {
   "cell_type": "markdown",
   "metadata": {},
   "source": [
    "<li> We can observe that Price has a strong negative correlation with age and km.\n",
    "<li> We can observe that Price has a postive correlation with weight. <br><br>\n",
    " \n",
    " Comparing categorical variables (Gears and CC) with Price we can observe:\n",
    "<li> More the number of Gears more the Price.\n",
    "<li> More the number of CC more the Price.\n",
    "<li> We will take these relevant variables for our further ananlysis."
   ]
  },
  {
   "cell_type": "markdown",
   "metadata": {},
   "source": [
    "Model 1: Statsmodel"
   ]
  },
  {
   "cell_type": "code",
   "execution_count": 64,
   "metadata": {},
   "outputs": [],
   "source": [
    "import statsmodels.formula.api as smf"
   ]
  },
  {
   "cell_type": "code",
   "execution_count": 65,
   "metadata": {},
   "outputs": [],
   "source": [
    "X=df4[['age','km','gears','weight','cc','hp','doors','qtax']]"
   ]
  },
  {
   "cell_type": "code",
   "execution_count": 75,
   "metadata": {},
   "outputs": [],
   "source": [
    "model = smf.ols('price~age+km+hp+cc+gears+weight+doors+qtax', data=df4).fit()"
   ]
  },
  {
   "cell_type": "code",
   "execution_count": 67,
   "metadata": {},
   "outputs": [
    {
     "data": {
      "text/plain": [
       "Intercept   -5573.106358\n",
       "X[0]         -121.658402\n",
       "X[1]           -0.020817\n",
       "X[2]          594.319936\n",
       "X[3]           16.958632\n",
       "X[4]           -0.121100\n",
       "X[5]           31.680906\n",
       "X[6]           -1.616641\n",
       "X[7]            3.949081\n",
       "dtype: float64"
      ]
     },
     "execution_count": 67,
     "metadata": {},
     "output_type": "execute_result"
    }
   ],
   "source": [
    "#Coefficients\n",
    "model.params"
   ]
  },
  {
   "cell_type": "code",
   "execution_count": 68,
   "metadata": {},
   "outputs": [
    {
     "name": "stdout",
     "output_type": "stream",
     "text": [
      "Intercept    -3.948666\n",
      "X[0]        -46.511852\n",
      "X[1]        -16.621622\n",
      "X[2]          3.016007\n",
      "X[3]         15.879803\n",
      "X[4]         -1.344222\n",
      "X[5]         11.241018\n",
      "X[6]         -0.040410\n",
      "X[7]          3.014535\n",
      "dtype: float64 \n",
      " \n",
      " Intercept     8.241949e-05\n",
      "X[0]         3.354724e-288\n",
      "X[1]          7.538439e-57\n",
      "X[2]          2.606549e-03\n",
      "X[3]          2.048576e-52\n",
      "X[4]          1.790902e-01\n",
      "X[5]          3.757218e-28\n",
      "X[6]          9.677716e-01\n",
      "X[7]          2.619148e-03\n",
      "dtype: float64\n"
     ]
    }
   ],
   "source": [
    "#t and p-Values\n",
    "print(model.tvalues, '\\n','\\n', model.pvalues)"
   ]
  },
  {
   "cell_type": "code",
   "execution_count": 69,
   "metadata": {},
   "outputs": [
    {
     "data": {
      "text/plain": [
       "(0.8637627463428191, 0.8629989775766962)"
      ]
     },
     "execution_count": 69,
     "metadata": {},
     "output_type": "execute_result"
    }
   ],
   "source": [
    "#R squared values\n",
    "(model.rsquared,model.rsquared_adj)"
   ]
  },
  {
   "cell_type": "markdown",
   "metadata": {},
   "source": [
    "### Predicting for new data"
   ]
  },
  {
   "cell_type": "code",
   "execution_count": 72,
   "metadata": {},
   "outputs": [],
   "source": [
    "new_data=pd.DataFrame({'age': 56,'km': 68000, 'hp':100, 'cc': 1600,'doors':4,'gears':5,'qtax': 86, 'weight': 1100},index=[1])\n"
   ]
  },
  {
   "cell_type": "code",
   "execution_count": 76,
   "metadata": {},
   "outputs": [
    {
     "data": {
      "text/plain": [
       "1    11132.037549\n",
       "dtype: float64"
      ]
     },
     "execution_count": 76,
     "metadata": {},
     "output_type": "execute_result"
    }
   ],
   "source": [
    "model.predict(new_data)"
   ]
  },
  {
   "cell_type": "code",
   "execution_count": 77,
   "metadata": {},
   "outputs": [
    {
     "data": {
      "text/plain": [
       "0    16812.580505\n",
       "1    16272.355186\n",
       "2    16800.732460\n",
       "3    16426.496731\n",
       "4    16222.419010\n",
       "dtype: float64"
      ]
     },
     "execution_count": 77,
     "metadata": {},
     "output_type": "execute_result"
    }
   ],
   "source": [
    "model.predict(df4.iloc[0:5,])"
   ]
  },
  {
   "cell_type": "markdown",
   "metadata": {},
   "source": [
    "# Model 2 : Sklearn Model"
   ]
  },
  {
   "cell_type": "code",
   "execution_count": 87,
   "metadata": {},
   "outputs": [],
   "source": [
    "from sklearn.model_selection import train_test_split "
   ]
  },
  {
   "cell_type": "code",
   "execution_count": 81,
   "metadata": {},
   "outputs": [],
   "source": [
    "X = df4.iloc[:,1:].values\n",
    "y = df4.iloc[:,0].values"
   ]
  },
  {
   "cell_type": "code",
   "execution_count": 88,
   "metadata": {},
   "outputs": [],
   "source": [
    "#Splitting the data\n",
    "X_train, X_test, y_train, y_test = train_test_split(X,y, test_size=1/3, random_state=0)"
   ]
  },
  {
   "cell_type": "code",
   "execution_count": 89,
   "metadata": {},
   "outputs": [],
   "source": [
    "from sklearn.linear_model import LinearRegression"
   ]
  },
  {
   "cell_type": "code",
   "execution_count": 90,
   "metadata": {},
   "outputs": [],
   "source": [
    "regressor = LinearRegression() #Regression object created"
   ]
  },
  {
   "cell_type": "markdown",
   "metadata": {},
   "source": [
    "### Training the model"
   ]
  },
  {
   "cell_type": "code",
   "execution_count": 91,
   "metadata": {},
   "outputs": [
    {
     "data": {
      "text/plain": [
       "LinearRegression()"
      ]
     },
     "execution_count": 91,
     "metadata": {},
     "output_type": "execute_result"
    }
   ],
   "source": [
    "regressor.fit(X_train, y_train) # Training model"
   ]
  },
  {
   "cell_type": "code",
   "execution_count": 92,
   "metadata": {},
   "outputs": [
    {
     "name": "stdout",
     "output_type": "stream",
     "text": [
      "r_sqr value: 0.8838862770307204\n"
     ]
    }
   ],
   "source": [
    "from sklearn.metrics import r2_score\n",
    "\n",
    "#R squared values\n",
    "print(f'r_sqr value: {regressor.score(X_train, y_train)}')"
   ]
  },
  {
   "cell_type": "markdown",
   "metadata": {},
   "source": [
    "### Predicting Data"
   ]
  },
  {
   "cell_type": "code",
   "execution_count": 93,
   "metadata": {},
   "outputs": [],
   "source": [
    "y_pred = regressor.predict(X_test) # predicting"
   ]
  },
  {
   "cell_type": "code",
   "execution_count": 94,
   "metadata": {},
   "outputs": [
    {
     "data": {
      "text/plain": [
       "array([ 8229.82109143, 10442.51570807, 12901.65730736,  7670.28453975,\n",
       "       10475.01020087,  9526.9959886 ,  6313.39009672, 16346.10692596,\n",
       "       11300.00646822, 10391.91985197,  7106.12684787, 11165.74088244,\n",
       "       11753.55666094,  9734.29514014,  7454.73510013, 16241.77826062,\n",
       "       11141.0767085 ,  7677.70188174, 12775.21803334,  8816.38524311,\n",
       "        6712.12236461,  6145.91821307, 11624.16105251, 12275.03260496,\n",
       "       19127.47191885,  7748.31439269, 13963.10597611,  5824.59248414,\n",
       "        9255.89390013,  7837.26094191, 10731.66343902,  7656.83526351,\n",
       "       16095.50380848,  7251.35991488, 11188.94518261, 12889.70051458,\n",
       "        9884.78154265, 12187.74933266,  9867.32846556,  8955.44343536,\n",
       "        8702.50119585, 10571.70267071,  9920.46375051, 17233.33895174,\n",
       "       10888.51626871,  7033.76095683,  9521.14216668,  7649.05748277,\n",
       "        8384.69017639,  8729.9457587 , 19363.56163364,  8408.5553614 ,\n",
       "        7106.37791003,  6490.7789779 , 11436.94695822, 18293.33751449,\n",
       "       13878.12922432, 10066.22417609, 19400.0853198 , 10914.07438904,\n",
       "        6557.02313077,  7861.04851321, 11019.11089508, 12158.89289495,\n",
       "       10770.88877207, 13888.2953666 ,  8258.79797551,  6721.21643259,\n",
       "       17625.53734969, 10651.79922076,  9783.38237345,  9387.37855837,\n",
       "       13250.82987822,  7208.14906207, 14890.1109874 , 13083.91656851,\n",
       "       10734.58129493,  6871.79160574,  8109.15201161,  8073.78336771,\n",
       "        6788.9365953 ,  8846.76078766,  6016.48050016, 11617.06496531,\n",
       "       11878.14352221, 10527.43571088, 11639.16965863, 12903.45627531,\n",
       "        7923.85467295,  9454.07943573,  6679.76684725, 10405.1576015 ,\n",
       "       16716.29593174, 13136.46514738,  8052.91057753, 12104.47750563,\n",
       "       15449.6661639 ,  9966.53553759, 13380.78593207,  7518.544808  ,\n",
       "        8304.67858064, 11743.2621391 , 11819.13009893,  8199.22943769,\n",
       "        8171.0729268 , 18516.60080488, 18313.36943621,  8233.00801658,\n",
       "       14200.7198329 ,  8751.88061873, 13476.06568674,  9206.87521075,\n",
       "       10354.99931084,  9547.70656973, 13077.11306264,  9025.15024914,\n",
       "        9240.38743266, 12499.11379183,  9332.90611302,  8119.50022123,\n",
       "       17361.89430777,  7419.01198198, 13923.9208559 , 10077.23962445,\n",
       "        8021.20870791, 20427.67308126,  6992.66988662, 10089.3903446 ,\n",
       "        9272.04422264, 10309.95368619, 17198.85155293,  8897.29097559,\n",
       "       11216.30359062,  9819.17415843, 19521.29376605, 11106.87217411,\n",
       "       12376.89245293, 12867.45392138, 10239.95541331, 13577.85723116,\n",
       "       15870.05415996, 10234.22032942,  8807.98799258,  7809.7727135 ,\n",
       "        9210.5456551 , 17399.47911983, 10359.27247573, 12601.03938923,\n",
       "       11563.53757614, 12352.30141223,  7796.59707571, 13709.73825392,\n",
       "       10265.38361493,  6824.85384531, 11027.19120216, 14964.71528582,\n",
       "       10158.64888809,  9666.66606926,  7671.81987769,  8540.83775937,\n",
       "        7924.5258478 ,  9111.6202696 ,  8383.5584665 , 15316.01974858,\n",
       "       11112.41453951,  8207.47508067, 19299.51359683,  9081.23684403,\n",
       "        9015.59991923, 15763.79061345,  9924.74140145, 10575.39573002,\n",
       "        9902.213074  ,  8747.85269632,  8062.70153057, 10661.59168872,\n",
       "        8648.9503449 , 12864.94324678, 16948.44687783, 10674.16369254,\n",
       "       11358.73941444,  9126.2668973 ,  7747.50802431, 15881.61000801,\n",
       "       12592.87283931,  9174.35890105,  9460.21716477, 16637.27163668,\n",
       "       16196.27658399,  6822.61974778,  9929.24122156,  8252.70315727,\n",
       "       10796.39202569, 12379.86102623, 10296.7094843 ,  7605.68039858,\n",
       "       18016.74756403,  7581.73902276,  7630.62991116,  5492.27089564,\n",
       "        9562.71333344, 12214.2450998 , 13693.63871334, 15612.83188709,\n",
       "       11126.52565208,  9891.69235334, 12424.89513161, 10538.22457401,\n",
       "        8693.11272734,  6408.20393053, 13511.88633643,  8446.59645115,\n",
       "        8507.86269556,  7041.14529691,  7094.45693636, 16294.84508794,\n",
       "       19456.7630412 , 10705.11274668,  8128.31626478, 12083.23457504,\n",
       "        7602.55785914,  7723.62818364, 10625.65736036,  8335.66647383,\n",
       "       13487.20640406, 10717.38698998,  9978.94297912, 17548.68182278,\n",
       "       10786.97653631, 10809.11522183,  8415.28560895, 10366.04433052,\n",
       "       10432.35805994, 14384.339971  ,  6988.83679805,  9488.77429375,\n",
       "        7388.70749338,  7128.24958753,  9036.80061253, 13595.24650676,\n",
       "       11140.90730852,  9510.98903484,  6910.31787167,  9023.06710821,\n",
       "       -4637.59089407,  7729.66768582, 11658.72961866, 12570.84473555,\n",
       "       10280.53589637,  9127.43938715,  8415.763977  ,  8778.33970145,\n",
       "       12388.38078119, 10283.47814562, 16436.84033023,  8979.16499896,\n",
       "        9533.49368525, 16321.80905498,  8370.87399639,  9337.51338873,\n",
       "       20125.03982931, 10118.56669302, 15456.14030719,  8975.6367755 ,\n",
       "       16096.8403682 , 10011.67888746, 16597.11387584,  8618.84020317,\n",
       "        7593.06002906, 10385.90916482, 12099.27626131,  9940.41657119,\n",
       "       11286.66578761, 11897.84869368,  9005.66525269, 17519.81531884,\n",
       "       19707.6850263 ,  6515.96833813,  8466.8780997 , 13100.24704752,\n",
       "        7589.44874232,  9036.25649991,  6729.69484618, 11336.7315909 ,\n",
       "       10341.59592838, 10045.15555886, 12699.88787397,  7488.06622794,\n",
       "        6943.59362038, 11895.33084967,  9058.87086713, 20012.72051935,\n",
       "       12342.04577079,  8333.78816607, 10064.44258639, 11155.74897035,\n",
       "       13262.72103935,  6939.44067406,  7747.59133834, 12003.11318148,\n",
       "        8523.77185412, 10835.93972693, 11365.11461337, 11424.74047334,\n",
       "        8736.92146616, 10882.16682363,  8716.68911   ,  8301.67172356,\n",
       "        8279.39529433, 10026.10775838,  8917.79634028, 11029.7646913 ,\n",
       "        7226.67690027, 11754.28203862, 12124.90694293, 10773.02008597,\n",
       "        9863.14671998,  8535.90273799, 11636.29537679,  9823.44894469,\n",
       "       11392.33311557,  8095.80486447,  7535.12460576,  8266.37455423,\n",
       "        4884.1249916 ,  7476.29524121,  8358.44188098,  8439.83459767,\n",
       "        8379.77104644,  9402.76362693,  9882.50213226,  9337.06194657,\n",
       "        7763.59397223, 10802.32205617,  8483.12640706,  8581.38906789,\n",
       "        8335.9690594 ,  7144.37357817, 12027.85415648, 13242.05473025,\n",
       "        8081.48278967,  9396.46849288,  8685.85859084, 19156.86423151,\n",
       "       10606.78758866,  6739.85792312, 11555.5173799 ,  8203.39406944,\n",
       "        7756.68090183,  8167.97220266, 16195.87412355,  7567.3300346 ,\n",
       "       10870.02431422, 17972.83498573,  7790.74516879,  9290.64770075,\n",
       "       11142.57792985, 13705.09157213,  7057.04364108,  5219.97964122,\n",
       "       12981.01625664, 10266.20400314, 12525.29870296,  8492.46646751,\n",
       "       10947.86298348,  9304.29221714, 10359.27437268, 13982.44761692,\n",
       "       11037.09549521,  7236.26022368,  7994.42481855,  9240.75344915,\n",
       "       12370.3040956 , 13633.60479018,  8771.40617746,  9769.35232883,\n",
       "       13020.62290954, 13772.8123565 ,  7195.51445037, 12294.01984618,\n",
       "        7279.51128162,  9757.14658295, 15864.68822727,  6276.32354144,\n",
       "        9396.06609612, 20348.9264196 ,  8409.20650983,  7639.3617702 ,\n",
       "        8697.98353479,  8642.60178106,  8411.97919676,  8829.10925431,\n",
       "        6714.34959646, 15920.48178388,  7387.96028341, 10454.04563574,\n",
       "        9339.02532103,  9370.8816887 ,  6736.68932838, 10661.58801082,\n",
       "       14063.15763008,  6871.26677122,  6458.55093867, 10536.31383925,\n",
       "        8824.71727883, 10550.75045996,  6307.57062967,  7559.80846464,\n",
       "        9337.2549574 ,  9456.4956066 ,  7820.39501306,  9570.81014459,\n",
       "       10873.30384628,  9888.37631738,  8255.58205555,  9049.75069718,\n",
       "        7608.17673157,  8234.89300513, 11191.03096228, 11180.14005911,\n",
       "        7058.57848327,  9509.25419492,  8346.85531928,  7683.39624832,\n",
       "       16818.79589552, 20215.95028982,  5570.43187037,  8309.39715454,\n",
       "       11312.91844843,  9530.73671442,  7945.38231031,  8525.62804367,\n",
       "        7852.68103744,  9351.31840745,  9235.17579238, 10033.17789285,\n",
       "        6650.75716189, 12269.54001975, 10309.96254606, 18123.46980399,\n",
       "        8423.74701087, 16440.87483902, 11963.77865182, 11835.75716016,\n",
       "       10821.59526062,  7279.81541422,  8162.84089789,  8032.50164587,\n",
       "       18450.21185438,  8478.44521676,  9054.04740589, 16445.93051521,\n",
       "        8237.18210048, 10975.16406857, 11321.1839799 , 14412.57309538,\n",
       "        9366.85872068, 14337.56665882, 18895.78581069,  8488.0889272 ,\n",
       "       12729.46699156, 11099.84064722, 13008.29116382,  8877.536207  ,\n",
       "        9912.03385193,  9772.2156743 , 11064.11659746, 23438.10017308,\n",
       "       10485.99381115,  9408.21269475, 11055.4610954 , 12820.79811802,\n",
       "       13379.01305325,  7402.72336614, 13147.58895635, 10118.01577909,\n",
       "       12362.40556032,  9184.15355283, 10506.07354139])"
      ]
     },
     "execution_count": 94,
     "metadata": {},
     "output_type": "execute_result"
    }
   ],
   "source": [
    "y_pred"
   ]
  },
  {
   "cell_type": "code",
   "execution_count": 96,
   "metadata": {},
   "outputs": [],
   "source": [
    "x_test_new = [[ 56, 68000, 100,  1600, 4, 5, 86, 1100]]\n"
   ]
  },
  {
   "cell_type": "code",
   "execution_count": 97,
   "metadata": {},
   "outputs": [
    {
     "data": {
      "text/plain": [
       "array([11353.38926992])"
      ]
     },
     "execution_count": 97,
     "metadata": {},
     "output_type": "execute_result"
    }
   ],
   "source": [
    "regressor.predict(x_test_new)"
   ]
  },
  {
   "cell_type": "markdown",
   "metadata": {},
   "source": [
    "### R sqaure and Predicted values for Model 1, Model 2."
   ]
  },
  {
   "cell_type": "code",
   "execution_count": 104,
   "metadata": {},
   "outputs": [
    {
     "data": {
      "text/html": [
       "<div>\n",
       "<style scoped>\n",
       "    .dataframe tbody tr th:only-of-type {\n",
       "        vertical-align: middle;\n",
       "    }\n",
       "\n",
       "    .dataframe tbody tr th {\n",
       "        vertical-align: top;\n",
       "    }\n",
       "\n",
       "    .dataframe thead th {\n",
       "        text-align: right;\n",
       "    }\n",
       "</style>\n",
       "<table border=\"1\" class=\"dataframe\">\n",
       "  <thead>\n",
       "    <tr style=\"text-align: right;\">\n",
       "      <th></th>\n",
       "      <th>Model</th>\n",
       "      <th>R2_Square</th>\n",
       "      <th>Price</th>\n",
       "    </tr>\n",
       "  </thead>\n",
       "  <tbody>\n",
       "    <tr>\n",
       "      <th>0</th>\n",
       "      <td>Model1</td>\n",
       "      <td>86</td>\n",
       "      <td>11132</td>\n",
       "    </tr>\n",
       "    <tr>\n",
       "      <th>1</th>\n",
       "      <td>Model2</td>\n",
       "      <td>88</td>\n",
       "      <td>11353</td>\n",
       "    </tr>\n",
       "  </tbody>\n",
       "</table>\n",
       "</div>"
      ],
      "text/plain": [
       "    Model R2_Square  Price\n",
       "0  Model1        86  11132\n",
       "1  Model2        88  11353"
      ]
     },
     "execution_count": 104,
     "metadata": {},
     "output_type": "execute_result"
    }
   ],
   "source": [
    "df5 = pd.DataFrame(np.array([['Model1',86,11132], ['Model2',88,11353]]),\n",
    "                   columns= ['Model', 'R2_Square','Price'])\n",
    "\n",
    "df5.head()"
   ]
  },
  {
   "cell_type": "code",
   "execution_count": null,
   "metadata": {},
   "outputs": [],
   "source": []
  }
 ],
 "metadata": {
  "kernelspec": {
   "display_name": "Python 3",
   "language": "python",
   "name": "python3"
  },
  "language_info": {
   "codemirror_mode": {
    "name": "ipython",
    "version": 3
   },
   "file_extension": ".py",
   "mimetype": "text/x-python",
   "name": "python",
   "nbconvert_exporter": "python",
   "pygments_lexer": "ipython3",
   "version": "3.8.3"
  }
 },
 "nbformat": 4,
 "nbformat_minor": 4
}
